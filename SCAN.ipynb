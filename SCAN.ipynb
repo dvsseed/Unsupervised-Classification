{
  "nbformat": 4,
  "nbformat_minor": 0,
  "metadata": {
    "colab": {
      "name": "SCAN.ipynb",
      "provenance": [],
      "collapsed_sections": [],
      "authorship_tag": "ABX9TyMRo3KhLqFJ+enes3v5TC7h",
      "include_colab_link": true
    },
    "kernelspec": {
      "name": "python3",
      "display_name": "Python 3"
    },
    "accelerator": "GPU"
  },
  "cells": [
    {
      "cell_type": "markdown",
      "metadata": {
        "id": "view-in-github",
        "colab_type": "text"
      },
      "source": [
        "<a href=\"https://colab.research.google.com/github/dvsseed/Unsupervised-Classification/blob/master/SCAN.ipynb\" target=\"_parent\"><img src=\"https://colab.research.google.com/assets/colab-badge.svg\" alt=\"Open In Colab\"/></a>"
      ]
    },
    {
      "cell_type": "markdown",
      "metadata": {
        "id": "CTUJWcFJ2OAl",
        "colab_type": "text"
      },
      "source": [
        "**SCAN**(*Semantic Clustering by Adopting Nearest neighbors*): Learning to Classify Images without Labels\n",
        "> * Paper: https://arxiv.org/abs/2005.12320\n",
        "> * PDF: https://arxiv.org/pdf/2005.12320\n",
        "> * GitHub: https://github.com/wvangansbeke/Unsupervised-Classification"
      ]
    },
    {
      "cell_type": "code",
      "metadata": {
        "id": "WJZFlbNU1sds",
        "colab_type": "code",
        "colab": {}
      },
      "source": [
        "# 刪除舊的套件\n",
        "# !rm -fr /content/Unsupervised-Classification"
      ],
      "execution_count": null,
      "outputs": []
    },
    {
      "cell_type": "code",
      "metadata": {
        "id": "vDWL0Htrcn3X",
        "colab_type": "code",
        "colab": {
          "base_uri": "https://localhost:8080/",
          "height": 134
        },
        "outputId": "05b324ff-b9a1-4147-c148-27d67cb38a86"
      },
      "source": [
        "# 下載並安裝 Unsupervised-Classification\n",
        "!git clone https://github.com/dvsseed/Unsupervised-Classification.git"
      ],
      "execution_count": null,
      "outputs": [
        {
          "output_type": "stream",
          "text": [
            "Cloning into 'Unsupervised-Classification'...\n",
            "remote: Enumerating objects: 109, done.\u001b[K\n",
            "remote: Counting objects: 100% (109/109), done.\u001b[K\n",
            "remote: Compressing objects: 100% (90/90), done.\u001b[K\n",
            "remote: Total 109 (delta 41), reused 64 (delta 17), pack-reused 0\u001b[K\n",
            "Receiving objects: 100% (109/109), 12.46 MiB | 5.17 MiB/s, done.\n",
            "Resolving deltas: 100% (41/41), done.\n"
          ],
          "name": "stdout"
        }
      ]
    },
    {
      "cell_type": "code",
      "metadata": {
        "id": "FKUgTIkBezwi",
        "colab_type": "code",
        "colab": {
          "base_uri": "https://localhost:8080/",
          "height": 118
        },
        "outputId": "cbcc4f0d-0161-4367-bed8-3af2b0d23ee4"
      },
      "source": [
        "# 查看安裝的目錄\n",
        "!ls -alt"
      ],
      "execution_count": null,
      "outputs": [
        {
          "output_type": "stream",
          "text": [
            "total 20\n",
            "drwxr-xr-x 9 root root 4096 Aug  9 21:43 Unsupervised-Classification\n",
            "drwxr-xr-x 1 root root 4096 Aug  9 21:43 .\n",
            "drwxr-xr-x 1 root root 4096 Aug  9 21:42 ..\n",
            "drwxr-xr-x 1 root root 4096 Aug  3 16:17 .config\n",
            "drwxr-xr-x 1 root root 4096 Jul 30 16:30 sample_data\n"
          ],
          "name": "stdout"
        }
      ]
    },
    {
      "cell_type": "code",
      "metadata": {
        "id": "zhnhMERzfFl8",
        "colab_type": "code",
        "colab": {}
      },
      "source": [
        "# 進入安裝套件的目錄\n",
        "!cd /content/Unsupervised-Classification/"
      ],
      "execution_count": null,
      "outputs": []
    },
    {
      "cell_type": "code",
      "metadata": {
        "id": "nbfE0v9eVdFQ",
        "colab_type": "code",
        "colab": {
          "base_uri": "https://localhost:8080/",
          "height": 34
        },
        "outputId": "50201f9d-d7ff-4f7b-9ecc-decef26c3319"
      },
      "source": [
        "cd /content/Unsupervised-Classification/"
      ],
      "execution_count": null,
      "outputs": [
        {
          "output_type": "stream",
          "text": [
            "/content/Unsupervised-Classification\n"
          ],
          "name": "stdout"
        }
      ]
    },
    {
      "cell_type": "code",
      "metadata": {
        "id": "-DTQNdqTVf81",
        "colab_type": "code",
        "colab": {
          "base_uri": "https://localhost:8080/",
          "height": 34
        },
        "outputId": "85b8512c-35b1-48b5-d8b9-3f41bda6207d"
      },
      "source": [
        "!pwd"
      ],
      "execution_count": null,
      "outputs": [
        {
          "output_type": "stream",
          "text": [
            "/content/Unsupervised-Classification\n"
          ],
          "name": "stdout"
        }
      ]
    },
    {
      "cell_type": "code",
      "metadata": {
        "id": "TQZVpvgyfVSN",
        "colab_type": "code",
        "colab": {
          "base_uri": "https://localhost:8080/",
          "height": 319
        },
        "outputId": "5d827c57-6cd0-4028-c404-9f9bb8bb092d"
      },
      "source": [
        "# 查看安裝套件的目錄\n",
        "!ls -alt /content/Unsupervised-Classification"
      ],
      "execution_count": null,
      "outputs": [
        {
          "output_type": "stream",
          "text": [
            "total 112\n",
            "drwxr-xr-x 8 root root  4096 Aug  9 21:43 .git\n",
            "drwxr-xr-x 9 root root  4096 Aug  9 21:43 .\n",
            "-rw-r--r-- 1 root root  4514 Aug  9 21:43 moco.py\n",
            "drwxr-xr-x 2 root root  4096 Aug  9 21:43 models\n",
            "-rw-r--r-- 1 root root  3373 Aug  9 21:43 requirements.txt\n",
            "-rw-r--r-- 1 root root  5789 Aug  9 21:43 scan.py\n",
            "-rw-r--r-- 1 root root  4688 Aug  9 21:43 selflabel.py\n",
            "-rw-r--r-- 1 root root  6206 Aug  9 21:43 simclr.py\n",
            "drwxr-xr-x 2 root root  4096 Aug  9 21:43 utils\n",
            "drwxr-xr-x 2 root root  4096 Aug  9 21:43 losses\n",
            "drwxr-xr-x 2 root root  4096 Aug  9 21:43 images\n",
            "drwxr-xr-x 3 root root  4096 Aug  9 21:43 data\n",
            "-rw-r--r-- 1 root root  5692 Aug  9 21:43 eval.py\n",
            "drwxr-xr-x 5 root root  4096 Aug  9 21:43 configs\n",
            "-rw-r--r-- 1 root root 19341 Aug  9 21:43 LICENSE\n",
            "-rw-r--r-- 1 root root  9909 Aug  9 21:43 README.md\n",
            "drwxr-xr-x 1 root root  4096 Aug  9 21:43 ..\n"
          ],
          "name": "stdout"
        }
      ]
    },
    {
      "cell_type": "code",
      "metadata": {
        "id": "sQ9yoXbgfqDT",
        "colab_type": "code",
        "colab": {
          "base_uri": "https://localhost:8080/",
          "height": 470
        },
        "outputId": "08e9c540-fc13-426d-caeb-d6c6eaaec424"
      },
      "source": [
        "# 查看設定檔\n",
        "!cat /content/Unsupervised-Classification/utils/mypath.py"
      ],
      "execution_count": null,
      "outputs": [
        {
          "output_type": "stream",
          "text": [
            "\"\"\"\n",
            "Authors: Wouter Van Gansbeke, Simon Vandenhende\n",
            "Licensed under the CC BY-NC 4.0 license (https://creativecommons.org/licenses/by-nc/4.0/)\n",
            "\"\"\"\n",
            "import os\n",
            "\n",
            "\n",
            "class MyPath(object):\n",
            "    @staticmethod\n",
            "    def db_root_dir(database=''):\n",
            "        db_names = {'cifar-10', 'stl-10', 'cifar-20', 'imagenet', 'imagenet_50', 'imagenet_100', 'imagenet_200'}\n",
            "        assert(database in db_names)\n",
            "\n",
            "        if database == 'cifar-10':\n",
            "            return '/content/Unsupervised-Classification/data/cifar-10/'\n",
            "        \n",
            "        elif database == 'cifar-20':\n",
            "            return '/content/Unsupervised-Classification/data/cifar-20/'\n",
            "\n",
            "        elif database == 'stl-10':\n",
            "            return '/content/Unsupervised-Classification/data/stl-10/'\n",
            "        \n",
            "        elif database in ['imagenet', 'imagenet_50', 'imagenet_100', 'imagenet_200']:\n",
            "            return '/content/Unsupervised-Classification/data/imagenet/'\n",
            "        \n",
            "        else:\n",
            "            raise NotImplementedError\n"
          ],
          "name": "stdout"
        }
      ]
    },
    {
      "cell_type": "code",
      "metadata": {
        "id": "_1BwKj9VgQ9V",
        "colab_type": "code",
        "colab": {
          "base_uri": "https://localhost:8080/",
          "height": 168
        },
        "outputId": "150d8976-9606-4ff6-da1e-5428c65460cb"
      },
      "source": [
        "# 查看資料目錄\n",
        "!ls -alt /content/Unsupervised-Classification/data"
      ],
      "execution_count": null,
      "outputs": [
        {
          "output_type": "stream",
          "text": [
            "total 44\n",
            "drwxr-xr-x 9 root root 4096 Aug  9 21:43 ..\n",
            "drwxr-xr-x 3 root root 4096 Aug  9 21:43 .\n",
            "-rw-r--r-- 1 root root 3885 Aug  9 21:43 augment.py\n",
            "-rw-r--r-- 1 root root 8385 Aug  9 21:43 cifar.py\n",
            "-rwxr-xr-x 1 root root 2660 Aug  9 21:43 custom_dataset.py\n",
            "-rw-r--r-- 1 root root 3245 Aug  9 21:43 imagenet.py\n",
            "drwxr-xr-x 2 root root 4096 Aug  9 21:43 imagenet_subsets\n",
            "-rw-r--r-- 1 root root 7455 Aug  9 21:43 stl.py\n"
          ],
          "name": "stdout"
        }
      ]
    },
    {
      "cell_type": "code",
      "metadata": {
        "id": "yLKpG0I4gWRn",
        "colab_type": "code",
        "colab": {}
      },
      "source": [
        "# 建立資料子目錄\n",
        "!mkdir /content/Unsupervised-Classification/data/cifar-10\n",
        "!mkdir /content/Unsupervised-Classification/data/cifar-20\n",
        "!mkdir /content/Unsupervised-Classification/data/stl-10\n",
        "!mkdir /content/Unsupervised-Classification/data/imagenet"
      ],
      "execution_count": null,
      "outputs": []
    },
    {
      "cell_type": "code",
      "metadata": {
        "id": "EIeXzY_l4qNy",
        "colab_type": "code",
        "colab": {}
      },
      "source": [
        "# 建立執行結果子目錄\n",
        "!mkdir /content/Unsupervised-Classification/results"
      ],
      "execution_count": null,
      "outputs": []
    },
    {
      "cell_type": "code",
      "metadata": {
        "id": "ce78ly635D3p",
        "colab_type": "code",
        "colab": {
          "base_uri": "https://localhost:8080/",
          "height": 1000
        },
        "outputId": "ead471d1-aed3-4571-bff5-1bdd87e21900"
      },
      "source": [
        "# Train model\n",
        "!python /content/Unsupervised-Classification/simclr.py --config_env /content/Unsupervised-Classification/configs/myenv.yml --config_exp /content/Unsupervised-Classification/configs/pretext/simclr_cifar10.yml"
      ],
      "execution_count": null,
      "outputs": [
        {
          "output_type": "stream",
          "text": [
            "\u001b[31m{'setup': 'simclr', 'backbone': 'resnet18', 'model_kwargs': {'head': 'mlp', 'features_dim': 128}, 'train_db_name': 'cifar-10', 'val_db_name': 'cifar-10', 'num_classes': 10, 'criterion': 'simclr', 'criterion_kwargs': {'temperature': 0.1}, 'epochs': 500, 'optimizer': 'sgd', 'optimizer_kwargs': {'nesterov': False, 'weight_decay': 0.0001, 'momentum': 0.9, 'lr': 0.4}, 'scheduler': 'cosine', 'scheduler_kwargs': {'lr_decay_rate': 0.1}, 'batch_size': 512, 'num_workers': 8, 'augmentation_strategy': 'simclr', 'augmentation_kwargs': {'random_resized_crop': {'size': 32, 'scale': [0.2, 1.0]}, 'color_jitter_random_apply': {'p': 0.8}, 'color_jitter': {'brightness': 0.4, 'contrast': 0.4, 'saturation': 0.4, 'hue': 0.1}, 'random_grayscale': {'p': 0.2}, 'normalize': {'mean': [0.4914, 0.4822, 0.4465], 'std': [0.2023, 0.1994, 0.201]}}, 'transformation_kwargs': {'crop_size': 32, 'normalize': {'mean': [0.4914, 0.4822, 0.4465], 'std': [0.2023, 0.1994, 0.201]}}, 'pretext_dir': '/content/Unsupervised-Classification/results/cifar-10/pretext', 'pretext_checkpoint': '/content/Unsupervised-Classification/results/cifar-10/pretext/checkpoint.pth.tar', 'pretext_model': '/content/Unsupervised-Classification/results/cifar-10/pretext/model.pth.tar', 'topk_neighbors_train_path': '/content/Unsupervised-Classification/results/cifar-10/pretext/topk-train-neighbors.npy', 'topk_neighbors_val_path': '/content/Unsupervised-Classification/results/cifar-10/pretext/topk-val-neighbors.npy'}\u001b[0m\n",
            "\u001b[34mRetrieve model\u001b[0m\n",
            "Model is ContrastiveModel\n",
            "Model parameters: 11.50M\n",
            "ContrastiveModel(\n",
            "  (backbone): ResNet(\n",
            "    (conv1): Conv2d(3, 64, kernel_size=(3, 3), stride=(1, 1), padding=(1, 1), bias=False)\n",
            "    (bn1): BatchNorm2d(64, eps=1e-05, momentum=0.1, affine=True, track_running_stats=True)\n",
            "    (layer1): Sequential(\n",
            "      (0): BasicBlock(\n",
            "        (conv1): Conv2d(64, 64, kernel_size=(3, 3), stride=(1, 1), padding=(1, 1), bias=False)\n",
            "        (bn1): BatchNorm2d(64, eps=1e-05, momentum=0.1, affine=True, track_running_stats=True)\n",
            "        (conv2): Conv2d(64, 64, kernel_size=(3, 3), stride=(1, 1), padding=(1, 1), bias=False)\n",
            "        (bn2): BatchNorm2d(64, eps=1e-05, momentum=0.1, affine=True, track_running_stats=True)\n",
            "        (shortcut): Sequential()\n",
            "      )\n",
            "      (1): BasicBlock(\n",
            "        (conv1): Conv2d(64, 64, kernel_size=(3, 3), stride=(1, 1), padding=(1, 1), bias=False)\n",
            "        (bn1): BatchNorm2d(64, eps=1e-05, momentum=0.1, affine=True, track_running_stats=True)\n",
            "        (conv2): Conv2d(64, 64, kernel_size=(3, 3), stride=(1, 1), padding=(1, 1), bias=False)\n",
            "        (bn2): BatchNorm2d(64, eps=1e-05, momentum=0.1, affine=True, track_running_stats=True)\n",
            "        (shortcut): Sequential()\n",
            "      )\n",
            "    )\n",
            "    (layer2): Sequential(\n",
            "      (0): BasicBlock(\n",
            "        (conv1): Conv2d(64, 128, kernel_size=(3, 3), stride=(2, 2), padding=(1, 1), bias=False)\n",
            "        (bn1): BatchNorm2d(128, eps=1e-05, momentum=0.1, affine=True, track_running_stats=True)\n",
            "        (conv2): Conv2d(128, 128, kernel_size=(3, 3), stride=(1, 1), padding=(1, 1), bias=False)\n",
            "        (bn2): BatchNorm2d(128, eps=1e-05, momentum=0.1, affine=True, track_running_stats=True)\n",
            "        (shortcut): Sequential(\n",
            "          (0): Conv2d(64, 128, kernel_size=(1, 1), stride=(2, 2), bias=False)\n",
            "          (1): BatchNorm2d(128, eps=1e-05, momentum=0.1, affine=True, track_running_stats=True)\n",
            "        )\n",
            "      )\n",
            "      (1): BasicBlock(\n",
            "        (conv1): Conv2d(128, 128, kernel_size=(3, 3), stride=(1, 1), padding=(1, 1), bias=False)\n",
            "        (bn1): BatchNorm2d(128, eps=1e-05, momentum=0.1, affine=True, track_running_stats=True)\n",
            "        (conv2): Conv2d(128, 128, kernel_size=(3, 3), stride=(1, 1), padding=(1, 1), bias=False)\n",
            "        (bn2): BatchNorm2d(128, eps=1e-05, momentum=0.1, affine=True, track_running_stats=True)\n",
            "        (shortcut): Sequential()\n",
            "      )\n",
            "    )\n",
            "    (layer3): Sequential(\n",
            "      (0): BasicBlock(\n",
            "        (conv1): Conv2d(128, 256, kernel_size=(3, 3), stride=(2, 2), padding=(1, 1), bias=False)\n",
            "        (bn1): BatchNorm2d(256, eps=1e-05, momentum=0.1, affine=True, track_running_stats=True)\n",
            "        (conv2): Conv2d(256, 256, kernel_size=(3, 3), stride=(1, 1), padding=(1, 1), bias=False)\n",
            "        (bn2): BatchNorm2d(256, eps=1e-05, momentum=0.1, affine=True, track_running_stats=True)\n",
            "        (shortcut): Sequential(\n",
            "          (0): Conv2d(128, 256, kernel_size=(1, 1), stride=(2, 2), bias=False)\n",
            "          (1): BatchNorm2d(256, eps=1e-05, momentum=0.1, affine=True, track_running_stats=True)\n",
            "        )\n",
            "      )\n",
            "      (1): BasicBlock(\n",
            "        (conv1): Conv2d(256, 256, kernel_size=(3, 3), stride=(1, 1), padding=(1, 1), bias=False)\n",
            "        (bn1): BatchNorm2d(256, eps=1e-05, momentum=0.1, affine=True, track_running_stats=True)\n",
            "        (conv2): Conv2d(256, 256, kernel_size=(3, 3), stride=(1, 1), padding=(1, 1), bias=False)\n",
            "        (bn2): BatchNorm2d(256, eps=1e-05, momentum=0.1, affine=True, track_running_stats=True)\n",
            "        (shortcut): Sequential()\n",
            "      )\n",
            "    )\n",
            "    (layer4): Sequential(\n",
            "      (0): BasicBlock(\n",
            "        (conv1): Conv2d(256, 512, kernel_size=(3, 3), stride=(2, 2), padding=(1, 1), bias=False)\n",
            "        (bn1): BatchNorm2d(512, eps=1e-05, momentum=0.1, affine=True, track_running_stats=True)\n",
            "        (conv2): Conv2d(512, 512, kernel_size=(3, 3), stride=(1, 1), padding=(1, 1), bias=False)\n",
            "        (bn2): BatchNorm2d(512, eps=1e-05, momentum=0.1, affine=True, track_running_stats=True)\n",
            "        (shortcut): Sequential(\n",
            "          (0): Conv2d(256, 512, kernel_size=(1, 1), stride=(2, 2), bias=False)\n",
            "          (1): BatchNorm2d(512, eps=1e-05, momentum=0.1, affine=True, track_running_stats=True)\n",
            "        )\n",
            "      )\n",
            "      (1): BasicBlock(\n",
            "        (conv1): Conv2d(512, 512, kernel_size=(3, 3), stride=(1, 1), padding=(1, 1), bias=False)\n",
            "        (bn1): BatchNorm2d(512, eps=1e-05, momentum=0.1, affine=True, track_running_stats=True)\n",
            "        (conv2): Conv2d(512, 512, kernel_size=(3, 3), stride=(1, 1), padding=(1, 1), bias=False)\n",
            "        (bn2): BatchNorm2d(512, eps=1e-05, momentum=0.1, affine=True, track_running_stats=True)\n",
            "        (shortcut): Sequential()\n",
            "      )\n",
            "    )\n",
            "    (avgpool): AdaptiveAvgPool2d(output_size=(1, 1))\n",
            "  )\n",
            "  (contrastive_head): Sequential(\n",
            "    (0): Linear(in_features=512, out_features=512, bias=True)\n",
            "    (1): ReLU()\n",
            "    (2): Linear(in_features=512, out_features=128, bias=True)\n",
            "  )\n",
            ")\n",
            "\u001b[34mSet CuDNN benchmark\u001b[0m\n",
            "\u001b[34mRetrieve dataset\u001b[0m\n",
            "Train transforms: Compose(\n",
            "    RandomResizedCrop(size=(32, 32), scale=(0.2, 1.0), ratio=(0.75, 1.3333), interpolation=PIL.Image.BILINEAR)\n",
            "    RandomHorizontalFlip(p=0.5)\n",
            "    RandomApply(\n",
            "    p=0.8\n",
            "    ColorJitter(brightness=[0.6, 1.4], contrast=[0.6, 1.4], saturation=[0.6, 1.4], hue=[-0.1, 0.1])\n",
            ")\n",
            "    RandomGrayscale(p=0.2)\n",
            "    ToTensor()\n",
            "    Normalize(mean=[0.4914, 0.4822, 0.4465], std=[0.2023, 0.1994, 0.201])\n",
            ")\n",
            "Validation transforms: Compose(\n",
            "    CenterCrop(size=(32, 32))\n",
            "    ToTensor()\n",
            "    Normalize(mean=[0.4914, 0.4822, 0.4465], std=[0.2023, 0.1994, 0.201])\n",
            ")\n",
            "Downloading https://www.cs.toronto.edu/~kriz/cifar-10-python.tar.gz to /content/Unsupervised-Classification/data/cifar-10/cifar-10-python.tar.gz\n",
            "100% 169746432/170498071 [00:14<00:00, 12749937.35it/s]Extracting /content/Unsupervised-Classification/data/cifar-10/cifar-10-python.tar.gz to /content/Unsupervised-Classification/data/cifar-10/\n",
            "Files already downloaded and verified\n",
            "Dataset contains 50000/10000 train/val samples\n",
            "\u001b[34mBuild MemoryBank\u001b[0m\n",
            "Files already downloaded and verified\n",
            "\u001b[34mRetrieve criterion\u001b[0m\n",
            "Criterion is SimCLRLoss\n",
            "\u001b[34mRetrieve optimizer\u001b[0m\n",
            "SGD (\n",
            "Parameter Group 0\n",
            "    dampening: 0\n",
            "    lr: 0.4\n",
            "    momentum: 0.9\n",
            "    nesterov: False\n",
            "    weight_decay: 0.0001\n",
            ")\n",
            "\u001b[34mNo checkpoint file at /content/Unsupervised-Classification/results/cifar-10/pretext/checkpoint.pth.tar\u001b[0m\n",
            "\u001b[34mStarting main loop\u001b[0m\n",
            "\u001b[33mEpoch 0/500\u001b[0m\n",
            "\u001b[33m---------------\u001b[0m\n",
            "Adjusted learning rate to 0.40000\n",
            "Train ...\n",
            "Epoch: [0][ 0/97]\tLoss 6.8600e+00 (6.8600e+00)\n",
            "170500096it [00:30, 12749937.35it/s]                   Epoch: [0][25/97]\tLoss 6.6107e+00 (6.7520e+00)\n",
            "Epoch: [0][50/97]\tLoss 6.5038e+00 (6.6500e+00)\n",
            "Epoch: [0][75/97]\tLoss 6.3338e+00 (6.5531e+00)\n",
            "Fill memory bank for kNN...\n",
            "Fill Memory Bank [0/98]\n",
            "Evaluate ...\n",
            "Result of kNN evaluation is 28.13\n",
            "Checkpoint ...\n",
            "\u001b[33mEpoch 1/500\u001b[0m\n",
            "\u001b[33m---------------\u001b[0m\n",
            "Adjusted learning rate to 0.40000\n",
            "Train ...\n",
            "Epoch: [1][ 0/97]\tLoss 6.1337e+00 (6.1337e+00)\n",
            "Epoch: [1][25/97]\tLoss 6.0012e+00 (6.1258e+00)\n",
            "Epoch: [1][50/97]\tLoss 5.8264e+00 (6.0408e+00)\n",
            "Epoch: [1][75/97]\tLoss 5.7230e+00 (5.9692e+00)\n",
            "Fill memory bank for kNN...\n",
            "Fill Memory Bank [0/98]\n",
            "Evaluate ...\n",
            "Result of kNN evaluation is 32.18\n",
            "Checkpoint ...\n",
            "\u001b[33mEpoch 2/500\u001b[0m\n",
            "\u001b[33m---------------\u001b[0m\n",
            "Adjusted learning rate to 0.39998\n",
            "Train ...\n",
            "Epoch: [2][ 0/97]\tLoss 5.5750e+00 (5.5750e+00)\n",
            "Epoch: [2][25/97]\tLoss 5.7582e+00 (5.7122e+00)\n",
            "Epoch: [2][50/97]\tLoss 5.5535e+00 (5.6584e+00)\n",
            "Epoch: [2][75/97]\tLoss 5.2883e+00 (5.5592e+00)\n",
            "Fill memory bank for kNN...\n",
            "Fill Memory Bank [0/98]\n",
            "Evaluate ...\n",
            "Result of kNN evaluation is 35.56\n",
            "Checkpoint ...\n",
            "\u001b[33mEpoch 3/500\u001b[0m\n",
            "\u001b[33m---------------\u001b[0m\n",
            "Adjusted learning rate to 0.39996\n",
            "Train ...\n",
            "Epoch: [3][ 0/97]\tLoss 5.1737e+00 (5.1737e+00)\n",
            "Epoch: [3][25/97]\tLoss 5.1271e+00 (5.1326e+00)\n",
            "Epoch: [3][50/97]\tLoss 4.9888e+00 (5.0915e+00)\n",
            "Epoch: [3][75/97]\tLoss 4.7663e+00 (5.0402e+00)\n",
            "Fill memory bank for kNN...\n",
            "Fill Memory Bank [0/98]\n",
            "Evaluate ...\n",
            "Result of kNN evaluation is 41.65\n",
            "Checkpoint ...\n",
            "\u001b[33mEpoch 4/500\u001b[0m\n",
            "\u001b[33m---------------\u001b[0m\n",
            "Adjusted learning rate to 0.39994\n",
            "Train ...\n",
            "Epoch: [4][ 0/97]\tLoss 4.6929e+00 (4.6929e+00)\n",
            "Epoch: [4][25/97]\tLoss 4.6660e+00 (4.6671e+00)\n",
            "Epoch: [4][50/97]\tLoss 4.5641e+00 (4.6056e+00)\n",
            "Epoch: [4][75/97]\tLoss 4.3419e+00 (4.5411e+00)\n",
            "Fill memory bank for kNN...\n",
            "Fill Memory Bank [0/98]\n",
            "Evaluate ...\n",
            "Result of kNN evaluation is 43.88\n",
            "Checkpoint ...\n",
            "\u001b[33mEpoch 5/500\u001b[0m\n",
            "\u001b[33m---------------\u001b[0m\n",
            "Adjusted learning rate to 0.39990\n",
            "Train ...\n",
            "Epoch: [5][ 0/97]\tLoss 4.3846e+00 (4.3846e+00)\n"
          ],
          "name": "stdout"
        }
      ]
    }
  ]
}